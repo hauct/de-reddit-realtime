{
 "cells": [
  {
   "cell_type": "code",
   "execution_count": 3,
   "metadata": {},
   "outputs": [],
   "source": [
    "# import openai\n",
    "from pyspark.sql import SparkSession\n",
    "from pyspark.sql.functions import *\n",
    "from pyspark.sql.types import *\n",
    "from config import config"
   ]
  },
  {
   "cell_type": "code",
   "execution_count": 4,
   "metadata": {},
   "outputs": [],
   "source": [
    "spark = SparkSession.builder.appName(\"SocketStreamConsumer\").getOrCreate()"
   ]
  },
  {
   "cell_type": "code",
   "execution_count": 5,
   "metadata": {},
   "outputs": [],
   "source": [
    "topic = 'customers_review'"
   ]
  },
  {
   "cell_type": "code",
   "execution_count": 8,
   "metadata": {},
   "outputs": [],
   "source": [
    "stream_df = (spark.readStream.format(\"socket\")\n",
    "        .option(\"host\", \"localhost\")\n",
    "        .option(\"port\", 9999)\n",
    "        .load()\n",
    "        )\n",
    "\n",
    "schema = StructType([\n",
    "    StructField(\"review_id\", StringType()),\n",
    "    StructField(\"user_id\", StringType()),\n",
    "    StructField(\"business_id\", StringType()),\n",
    "    StructField(\"stars\", FloatType()),\n",
    "    StructField(\"date\", StringType()),\n",
    "    StructField(\"text\", StringType())\n",
    "])\n",
    "\n",
    "stream_df = (stream_df\n",
    "                .select(from_json(col('value'), schema).alias(\"data\"))\n",
    "                .select((\"data.*\")))\n",
    "\n",
    "kafka_df = stream_df.selectExpr(\"CAST(review_id AS STRING) AS key\", \"to_json(struct(*)) AS value\")"
   ]
  },
  {
   "cell_type": "code",
   "execution_count": 9,
   "metadata": {},
   "outputs": [
    {
     "name": "stdout",
     "output_type": "stream",
     "text": [
      "root\n",
      " |-- key: string (nullable = true)\n",
      " |-- value: string (nullable = true)\n",
      "\n"
     ]
    }
   ],
   "source": [
    "kafka_df.printSchema()"
   ]
  },
  {
   "cell_type": "code",
   "execution_count": 10,
   "metadata": {},
   "outputs": [
    {
     "data": {
      "text/plain": [
       "'5ZT56YOWTALOMBQE'"
      ]
     },
     "execution_count": 10,
     "metadata": {},
     "output_type": "execute_result"
    }
   ],
   "source": [
    "config['kafka']['sasl.username']"
   ]
  },
  {
   "cell_type": "code",
   "execution_count": null,
   "metadata": {},
   "outputs": [],
   "source": [
    "docker exec -it spark-master spark-submit\\\n",
    "master spark://spark-master:7077 \\\n",
    "packages org.apache.spark:spark-sql-kafka-0-10_2.12:3.5.0 \\\n",
    "jobs/spark-streaming.py"
   ]
  },
  {
   "cell_type": "code",
   "execution_count": 4,
   "metadata": {},
   "outputs": [],
   "source": [
    "stream_df = (spark.readStream.format(\"socket\")\n",
    "        .option(\"host\", \"localhost\")\n",
    "        .option(\"port\", 9999)\n",
    "        .load()\n",
    "        )\n",
    "\n",
    "schema = StructType([\n",
    "    StructField(\"review_id\", StringType()),\n",
    "    StructField(\"user_id\", StringType()),\n",
    "    StructField(\"business_id\", StringType()),\n",
    "    StructField(\"stars\", FloatType()),\n",
    "    StructField(\"date\", StringType()),\n",
    "    StructField(\"text\", StringType())\n",
    "])\n",
    "\n",
    "stream_df = (stream_df\n",
    "                .select(from_json(col('value'), schema).alias(\"data\"))\n",
    "                .select((\"data.*\")))\n",
    "\n",
    "# query = (stream_df.writeStream\n",
    "#                 .outputMode('append')\n",
    "#                 .format('console')\n",
    "#                 .options(truncate=False)\n",
    "#                 .start())\n",
    "# query.awaitTermination()\n",
    "kafka_df = stream_df.selectExpr(\"CAST(review_id AS STRING) AS key\", \"to_json(struct(*)) AS value\")\n",
    "\n",
    "# query = (kafka_df.writeStream\n",
    "#             .format(\"kafka\")\n",
    "#             .option(\"kafka.bootstrap.servers\", config['kafka']['bootstrap.servers'])\n",
    "#             .option(\"kafka.security.protocol\", config['kafka']['security.protocol'])\n",
    "#             .option('kafka.sasl.mechanism', config['kafka']['sasl.mechanisms'])\n",
    "#             .option('kafka.sasl.jaas.config',\n",
    "#                     'org.apache.kafka.common.security.plain.PlainLoginModule required username=\"{username}\" '\n",
    "#                     'password=\"{password}\";'.format(\n",
    "#                     username=config['kafka']['sasl.username'],\n",
    "#                     password=config['kafka']['sasl.password']\n",
    "#                 ))\n",
    "#             .option('checkpointLocation', '/tmp/checkpoint')\n",
    "#             .option('topic', topic)\n",
    "#             .start()\n",
    "#             .awaitTermination()\n",
    "#             )"
   ]
  },
  {
   "cell_type": "code",
   "execution_count": 2,
   "metadata": {},
   "outputs": [
    {
     "ename": "NameError",
     "evalue": "name 'spark' is not defined",
     "output_type": "error",
     "traceback": [
      "\u001b[1;31m---------------------------------------------------------------------------\u001b[0m",
      "\u001b[1;31mNameError\u001b[0m                                 Traceback (most recent call last)",
      "\u001b[1;32md:\\code\\github\\de-reddit-realtime\\jobs\\test.ipynb Cell 5\u001b[0m line \u001b[0;36m1\n\u001b[1;32m----> <a href='vscode-notebook-cell:/d%3A/code/github/de-reddit-realtime/jobs/test.ipynb#W4sZmlsZQ%3D%3D?line=0'>1</a>\u001b[0m stream_df \u001b[39m=\u001b[39m (spark\u001b[39m.\u001b[39mreadStream\u001b[39m.\u001b[39mformat(\u001b[39m\"\u001b[39m\u001b[39msocket\u001b[39m\u001b[39m\"\u001b[39m)\n\u001b[0;32m      <a href='vscode-notebook-cell:/d%3A/code/github/de-reddit-realtime/jobs/test.ipynb#W4sZmlsZQ%3D%3D?line=1'>2</a>\u001b[0m         \u001b[39m.\u001b[39moption(\u001b[39m\"\u001b[39m\u001b[39mhost\u001b[39m\u001b[39m\"\u001b[39m, \u001b[39m\"\u001b[39m\u001b[39mlocalhost\u001b[39m\u001b[39m\"\u001b[39m)\n\u001b[0;32m      <a href='vscode-notebook-cell:/d%3A/code/github/de-reddit-realtime/jobs/test.ipynb#W4sZmlsZQ%3D%3D?line=2'>3</a>\u001b[0m         \u001b[39m.\u001b[39moption(\u001b[39m\"\u001b[39m\u001b[39mport\u001b[39m\u001b[39m\"\u001b[39m, \u001b[39m9999\u001b[39m)\n\u001b[0;32m      <a href='vscode-notebook-cell:/d%3A/code/github/de-reddit-realtime/jobs/test.ipynb#W4sZmlsZQ%3D%3D?line=3'>4</a>\u001b[0m         \u001b[39m.\u001b[39mload()\n\u001b[0;32m      <a href='vscode-notebook-cell:/d%3A/code/github/de-reddit-realtime/jobs/test.ipynb#W4sZmlsZQ%3D%3D?line=4'>5</a>\u001b[0m         )\n",
      "\u001b[1;31mNameError\u001b[0m: name 'spark' is not defined"
     ]
    }
   ],
   "source": [
    "stream_df = (spark.readStream.format(\"socket\")\n",
    "        .option(\"host\", \"localhost\")\n",
    "        .option(\"port\", 9999)\n",
    "        .load()\n",
    "        )"
   ]
  },
  {
   "cell_type": "code",
   "execution_count": null,
   "metadata": {},
   "outputs": [],
   "source": []
  }
 ],
 "metadata": {
  "kernelspec": {
   "display_name": "base",
   "language": "python",
   "name": "python3"
  },
  "language_info": {
   "codemirror_mode": {
    "name": "ipython",
    "version": 3
   },
   "file_extension": ".py",
   "mimetype": "text/x-python",
   "name": "python",
   "nbconvert_exporter": "python",
   "pygments_lexer": "ipython3",
   "version": "3.11.3"
  }
 },
 "nbformat": 4,
 "nbformat_minor": 2
}
